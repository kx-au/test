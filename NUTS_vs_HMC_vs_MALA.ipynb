{
 "cells": [
  {
   "cell_type": "code",
   "execution_count": 46,
   "metadata": {},
   "outputs": [],
   "source": [
    "import mici\n",
    "import arviz\n",
    "import numpy as np\n",
    "import time\n",
    "import matplotlib.pyplot as plt\n",
    "\n",
    "seed = int( 10**6 * (time.time() % 1) )\n",
    "rng = np.random.RandomState(seed)"
   ]
  },
  {
   "cell_type": "markdown",
   "metadata": {},
   "source": [
    "# HMC vs NUTS vs MALA on a 100-dimensional isotropic Gaussian"
   ]
  },
  {
   "cell_type": "code",
   "execution_count": 7,
   "metadata": {},
   "outputs": [],
   "source": [
    "n_dims = 100\n",
    "n_samples = 10_000\n",
    "n_chains = 10\n",
    "n_warm_up_samples = 1_000\n",
    "\n",
    "def neg_log_gauss_target(x):\n",
    "    return np.sum(x**2)/2\n",
    "\n",
    "def grad_neg_log_gauss_target(x):\n",
    "    '''simple enough to write down'''\n",
    "    return x"
   ]
  },
  {
   "cell_type": "markdown",
   "metadata": {},
   "source": [
    "## Run NUTS chain"
   ]
  },
  {
   "cell_type": "code",
   "execution_count": 8,
   "metadata": {},
   "outputs": [
    {
     "data": {
      "text/html": [
       "\n",
       "        <div style=\"line-height: 24px; width: 100%; display: flex;\n",
       "                    flex-flow: row wrap; align-items: center;\n",
       "                    position: relative; margin: 2px;\">\n",
       "          <label style=\"flex-shrink: 0;\n",
       "                        font-size: var(--jp-code-font-size, 13px);\n",
       "                        font-family: var(--jp-code-font-family, monospace);\">\n",
       "            Sampling&nbsp;stage:&nbsp;\n",
       "          </label>\n",
       "        \n",
       "          <div style=\"position: relative; flex-grow: 1; align-self: stretch;\n",
       "                      margin: 1px; padding: 0px; text-align: center;\n",
       "                      height: initial; background-color: #4caf50;\n",
       "                      color: white; border-radius: 5px;\n",
       "                      border: 1px solid white; font-size: 90%;\">\n",
       "            Adaptive warm up [00:15]\n",
       "          </div>\n",
       "        \n",
       "          <div style=\"position: relative; flex-grow: 1; align-self: stretch;\n",
       "                      margin: 1px; padding: 0px; text-align: center;\n",
       "                      height: initial; background-color: #4caf50;\n",
       "                      color: white; border-radius: 5px;\n",
       "                      border: 1px solid white; font-size: 90%;\">\n",
       "            Main non-adaptive [02:30]\n",
       "          </div>\n",
       "        </div>"
      ],
      "text/plain": [
       "Sampling stage: Adaptive warm up [00:15] > Main non-adaptive [02:30]"
      ]
     },
     "metadata": {},
     "output_type": "display_data"
    },
    {
     "data": {
      "text/html": [
       "\n",
       "        <div style=\"line-height: 28px; width: 100%; display: flex;\n",
       "                    flex-flow: row wrap; align-items: center;\n",
       "                    position: relative; margin: 2px;\">\n",
       "          <label style=\"margin-right: 8px; flex-shrink: 0;\n",
       "                        font-size: var(--jp-code-font-size, 13px);\n",
       "                        font-family: var(--jp-code-font-family, monospace);\">\n",
       "            Chain&nbsp;1/10:&nbsp;100%\n",
       "          </label>\n",
       "          <div role=\"progressbar\" aria-valuenow=\"1.0\"\n",
       "               aria-valuemin=\"0\" aria-valuemax=\"1\"\n",
       "               style=\"position: relative; flex-grow: 1; align-self: stretch;\n",
       "                      margin-top: 4px; margin-bottom: 4px;  height: initial;\n",
       "                      background-color: #eee;\">\n",
       "            <div style=\"background-color: var(--jp-success-color1, #4caf50); position: absolute;\n",
       "                        bottom: 0; left: 0; width: 100%;\n",
       "                        height: 100%;\"></div>\n",
       "          </div>\n",
       "          <div style=\"margin-left: 8px; flex-shrink: 0;\n",
       "                      font-family: var(--jp-code-font-family, monospace);\n",
       "                      font-size: var(--jp-code-font-size, 13px);\">\n",
       "            10000/10000 [02:28&lt;00:00, 67.49it/s, accept_stat=0.810, diverging=0.00, n_step=7.00]\n",
       "          </div>\n",
       "        </div>\n",
       "        "
      ],
      "text/plain": [
       "Chain 1/10: 100%|██████████|10000/10000 [02:28<00:00, 67.49it/s, accept_stat=0.810, diverging=0.00, n_step=7.00]"
      ]
     },
     "metadata": {},
     "output_type": "display_data"
    },
    {
     "data": {
      "text/html": [
       "\n",
       "        <div style=\"line-height: 28px; width: 100%; display: flex;\n",
       "                    flex-flow: row wrap; align-items: center;\n",
       "                    position: relative; margin: 2px;\">\n",
       "          <label style=\"margin-right: 8px; flex-shrink: 0;\n",
       "                        font-size: var(--jp-code-font-size, 13px);\n",
       "                        font-family: var(--jp-code-font-family, monospace);\">\n",
       "            Chain&nbsp;2/10:&nbsp;100%\n",
       "          </label>\n",
       "          <div role=\"progressbar\" aria-valuenow=\"1.0\"\n",
       "               aria-valuemin=\"0\" aria-valuemax=\"1\"\n",
       "               style=\"position: relative; flex-grow: 1; align-self: stretch;\n",
       "                      margin-top: 4px; margin-bottom: 4px;  height: initial;\n",
       "                      background-color: #eee;\">\n",
       "            <div style=\"background-color: var(--jp-success-color1, #4caf50); position: absolute;\n",
       "                        bottom: 0; left: 0; width: 100%;\n",
       "                        height: 100%;\"></div>\n",
       "          </div>\n",
       "          <div style=\"margin-left: 8px; flex-shrink: 0;\n",
       "                      font-family: var(--jp-code-font-family, monospace);\n",
       "                      font-size: var(--jp-code-font-size, 13px);\">\n",
       "            10000/10000 [02:29&lt;00:00, 66.67it/s, accept_stat=0.815, diverging=0.00, n_step=7.00]\n",
       "          </div>\n",
       "        </div>\n",
       "        "
      ],
      "text/plain": [
       "Chain 2/10: 100%|██████████|10000/10000 [02:29<00:00, 66.67it/s, accept_stat=0.815, diverging=0.00, n_step=7.00]"
      ]
     },
     "metadata": {},
     "output_type": "display_data"
    },
    {
     "data": {
      "text/html": [
       "\n",
       "        <div style=\"line-height: 28px; width: 100%; display: flex;\n",
       "                    flex-flow: row wrap; align-items: center;\n",
       "                    position: relative; margin: 2px;\">\n",
       "          <label style=\"margin-right: 8px; flex-shrink: 0;\n",
       "                        font-size: var(--jp-code-font-size, 13px);\n",
       "                        font-family: var(--jp-code-font-family, monospace);\">\n",
       "            Chain&nbsp;3/10:&nbsp;100%\n",
       "          </label>\n",
       "          <div role=\"progressbar\" aria-valuenow=\"1.0\"\n",
       "               aria-valuemin=\"0\" aria-valuemax=\"1\"\n",
       "               style=\"position: relative; flex-grow: 1; align-self: stretch;\n",
       "                      margin-top: 4px; margin-bottom: 4px;  height: initial;\n",
       "                      background-color: #eee;\">\n",
       "            <div style=\"background-color: var(--jp-success-color1, #4caf50); position: absolute;\n",
       "                        bottom: 0; left: 0; width: 100%;\n",
       "                        height: 100%;\"></div>\n",
       "          </div>\n",
       "          <div style=\"margin-left: 8px; flex-shrink: 0;\n",
       "                      font-family: var(--jp-code-font-family, monospace);\n",
       "                      font-size: var(--jp-code-font-size, 13px);\">\n",
       "            10000/10000 [02:30&lt;00:00, 66.58it/s, accept_stat=0.813, diverging=0.00, n_step=7.00]\n",
       "          </div>\n",
       "        </div>\n",
       "        "
      ],
      "text/plain": [
       "Chain 3/10: 100%|██████████|10000/10000 [02:30<00:00, 66.58it/s, accept_stat=0.813, diverging=0.00, n_step=7.00]"
      ]
     },
     "metadata": {},
     "output_type": "display_data"
    },
    {
     "data": {
      "text/html": [
       "\n",
       "        <div style=\"line-height: 28px; width: 100%; display: flex;\n",
       "                    flex-flow: row wrap; align-items: center;\n",
       "                    position: relative; margin: 2px;\">\n",
       "          <label style=\"margin-right: 8px; flex-shrink: 0;\n",
       "                        font-size: var(--jp-code-font-size, 13px);\n",
       "                        font-family: var(--jp-code-font-family, monospace);\">\n",
       "            Chain&nbsp;4/10:&nbsp;100%\n",
       "          </label>\n",
       "          <div role=\"progressbar\" aria-valuenow=\"1.0\"\n",
       "               aria-valuemin=\"0\" aria-valuemax=\"1\"\n",
       "               style=\"position: relative; flex-grow: 1; align-self: stretch;\n",
       "                      margin-top: 4px; margin-bottom: 4px;  height: initial;\n",
       "                      background-color: #eee;\">\n",
       "            <div style=\"background-color: var(--jp-success-color1, #4caf50); position: absolute;\n",
       "                        bottom: 0; left: 0; width: 100%;\n",
       "                        height: 100%;\"></div>\n",
       "          </div>\n",
       "          <div style=\"margin-left: 8px; flex-shrink: 0;\n",
       "                      font-family: var(--jp-code-font-family, monospace);\n",
       "                      font-size: var(--jp-code-font-size, 13px);\">\n",
       "            10000/10000 [02:30&lt;00:00, 66.54it/s, accept_stat=0.814, diverging=0.00, n_step=7.00]\n",
       "          </div>\n",
       "        </div>\n",
       "        "
      ],
      "text/plain": [
       "Chain 4/10: 100%|██████████|10000/10000 [02:30<00:00, 66.54it/s, accept_stat=0.814, diverging=0.00, n_step=7.00]"
      ]
     },
     "metadata": {},
     "output_type": "display_data"
    },
    {
     "data": {
      "text/html": [
       "\n",
       "        <div style=\"line-height: 28px; width: 100%; display: flex;\n",
       "                    flex-flow: row wrap; align-items: center;\n",
       "                    position: relative; margin: 2px;\">\n",
       "          <label style=\"margin-right: 8px; flex-shrink: 0;\n",
       "                        font-size: var(--jp-code-font-size, 13px);\n",
       "                        font-family: var(--jp-code-font-family, monospace);\">\n",
       "            Chain&nbsp;5/10:&nbsp;100%\n",
       "          </label>\n",
       "          <div role=\"progressbar\" aria-valuenow=\"1.0\"\n",
       "               aria-valuemin=\"0\" aria-valuemax=\"1\"\n",
       "               style=\"position: relative; flex-grow: 1; align-self: stretch;\n",
       "                      margin-top: 4px; margin-bottom: 4px;  height: initial;\n",
       "                      background-color: #eee;\">\n",
       "            <div style=\"background-color: var(--jp-success-color1, #4caf50); position: absolute;\n",
       "                        bottom: 0; left: 0; width: 100%;\n",
       "                        height: 100%;\"></div>\n",
       "          </div>\n",
       "          <div style=\"margin-left: 8px; flex-shrink: 0;\n",
       "                      font-family: var(--jp-code-font-family, monospace);\n",
       "                      font-size: var(--jp-code-font-size, 13px);\">\n",
       "            10000/10000 [02:29&lt;00:00, 67.10it/s, accept_stat=0.814, diverging=0.00, n_step=7.00]\n",
       "          </div>\n",
       "        </div>\n",
       "        "
      ],
      "text/plain": [
       "Chain 5/10: 100%|██████████|10000/10000 [02:29<00:00, 67.10it/s, accept_stat=0.814, diverging=0.00, n_step=7.00]"
      ]
     },
     "metadata": {},
     "output_type": "display_data"
    },
    {
     "data": {
      "text/html": [
       "\n",
       "        <div style=\"line-height: 28px; width: 100%; display: flex;\n",
       "                    flex-flow: row wrap; align-items: center;\n",
       "                    position: relative; margin: 2px;\">\n",
       "          <label style=\"margin-right: 8px; flex-shrink: 0;\n",
       "                        font-size: var(--jp-code-font-size, 13px);\n",
       "                        font-family: var(--jp-code-font-family, monospace);\">\n",
       "            Chain&nbsp;6/10:&nbsp;100%\n",
       "          </label>\n",
       "          <div role=\"progressbar\" aria-valuenow=\"1.0\"\n",
       "               aria-valuemin=\"0\" aria-valuemax=\"1\"\n",
       "               style=\"position: relative; flex-grow: 1; align-self: stretch;\n",
       "                      margin-top: 4px; margin-bottom: 4px;  height: initial;\n",
       "                      background-color: #eee;\">\n",
       "            <div style=\"background-color: var(--jp-success-color1, #4caf50); position: absolute;\n",
       "                        bottom: 0; left: 0; width: 100%;\n",
       "                        height: 100%;\"></div>\n",
       "          </div>\n",
       "          <div style=\"margin-left: 8px; flex-shrink: 0;\n",
       "                      font-family: var(--jp-code-font-family, monospace);\n",
       "                      font-size: var(--jp-code-font-size, 13px);\">\n",
       "            10000/10000 [02:30&lt;00:00, 66.50it/s, accept_stat=0.814, diverging=0.00, n_step=7.00]\n",
       "          </div>\n",
       "        </div>\n",
       "        "
      ],
      "text/plain": [
       "Chain 6/10: 100%|██████████|10000/10000 [02:30<00:00, 66.50it/s, accept_stat=0.814, diverging=0.00, n_step=7.00]"
      ]
     },
     "metadata": {},
     "output_type": "display_data"
    },
    {
     "data": {
      "text/html": [
       "\n",
       "        <div style=\"line-height: 28px; width: 100%; display: flex;\n",
       "                    flex-flow: row wrap; align-items: center;\n",
       "                    position: relative; margin: 2px;\">\n",
       "          <label style=\"margin-right: 8px; flex-shrink: 0;\n",
       "                        font-size: var(--jp-code-font-size, 13px);\n",
       "                        font-family: var(--jp-code-font-family, monospace);\">\n",
       "            Chain&nbsp;7/10:&nbsp;100%\n",
       "          </label>\n",
       "          <div role=\"progressbar\" aria-valuenow=\"1.0\"\n",
       "               aria-valuemin=\"0\" aria-valuemax=\"1\"\n",
       "               style=\"position: relative; flex-grow: 1; align-self: stretch;\n",
       "                      margin-top: 4px; margin-bottom: 4px;  height: initial;\n",
       "                      background-color: #eee;\">\n",
       "            <div style=\"background-color: var(--jp-success-color1, #4caf50); position: absolute;\n",
       "                        bottom: 0; left: 0; width: 100%;\n",
       "                        height: 100%;\"></div>\n",
       "          </div>\n",
       "          <div style=\"margin-left: 8px; flex-shrink: 0;\n",
       "                      font-family: var(--jp-code-font-family, monospace);\n",
       "                      font-size: var(--jp-code-font-size, 13px);\">\n",
       "            10000/10000 [02:28&lt;00:00, 67.27it/s, accept_stat=0.817, diverging=0.00, n_step=7.00]\n",
       "          </div>\n",
       "        </div>\n",
       "        "
      ],
      "text/plain": [
       "Chain 7/10: 100%|██████████|10000/10000 [02:28<00:00, 67.27it/s, accept_stat=0.817, diverging=0.00, n_step=7.00]"
      ]
     },
     "metadata": {},
     "output_type": "display_data"
    },
    {
     "data": {
      "text/html": [
       "\n",
       "        <div style=\"line-height: 28px; width: 100%; display: flex;\n",
       "                    flex-flow: row wrap; align-items: center;\n",
       "                    position: relative; margin: 2px;\">\n",
       "          <label style=\"margin-right: 8px; flex-shrink: 0;\n",
       "                        font-size: var(--jp-code-font-size, 13px);\n",
       "                        font-family: var(--jp-code-font-family, monospace);\">\n",
       "            Chain&nbsp;8/10:&nbsp;100%\n",
       "          </label>\n",
       "          <div role=\"progressbar\" aria-valuenow=\"1.0\"\n",
       "               aria-valuemin=\"0\" aria-valuemax=\"1\"\n",
       "               style=\"position: relative; flex-grow: 1; align-self: stretch;\n",
       "                      margin-top: 4px; margin-bottom: 4px;  height: initial;\n",
       "                      background-color: #eee;\">\n",
       "            <div style=\"background-color: var(--jp-success-color1, #4caf50); position: absolute;\n",
       "                        bottom: 0; left: 0; width: 100%;\n",
       "                        height: 100%;\"></div>\n",
       "          </div>\n",
       "          <div style=\"margin-left: 8px; flex-shrink: 0;\n",
       "                      font-family: var(--jp-code-font-family, monospace);\n",
       "                      font-size: var(--jp-code-font-size, 13px);\">\n",
       "            10000/10000 [02:29&lt;00:00, 66.75it/s, accept_stat=0.814, diverging=0.00, n_step=7.00]\n",
       "          </div>\n",
       "        </div>\n",
       "        "
      ],
      "text/plain": [
       "Chain 8/10: 100%|██████████|10000/10000 [02:29<00:00, 66.75it/s, accept_stat=0.814, diverging=0.00, n_step=7.00]"
      ]
     },
     "metadata": {},
     "output_type": "display_data"
    },
    {
     "data": {
      "text/html": [
       "\n",
       "        <div style=\"line-height: 28px; width: 100%; display: flex;\n",
       "                    flex-flow: row wrap; align-items: center;\n",
       "                    position: relative; margin: 2px;\">\n",
       "          <label style=\"margin-right: 8px; flex-shrink: 0;\n",
       "                        font-size: var(--jp-code-font-size, 13px);\n",
       "                        font-family: var(--jp-code-font-family, monospace);\">\n",
       "            Chain&nbsp;9/10:&nbsp;100%\n",
       "          </label>\n",
       "          <div role=\"progressbar\" aria-valuenow=\"1.0\"\n",
       "               aria-valuemin=\"0\" aria-valuemax=\"1\"\n",
       "               style=\"position: relative; flex-grow: 1; align-self: stretch;\n",
       "                      margin-top: 4px; margin-bottom: 4px;  height: initial;\n",
       "                      background-color: #eee;\">\n",
       "            <div style=\"background-color: var(--jp-success-color1, #4caf50); position: absolute;\n",
       "                        bottom: 0; left: 0; width: 100%;\n",
       "                        height: 100%;\"></div>\n",
       "          </div>\n",
       "          <div style=\"margin-left: 8px; flex-shrink: 0;\n",
       "                      font-family: var(--jp-code-font-family, monospace);\n",
       "                      font-size: var(--jp-code-font-size, 13px);\">\n",
       "            10000/10000 [02:28&lt;00:00, 67.53it/s, accept_stat=0.813, diverging=0.00, n_step=7.00]\n",
       "          </div>\n",
       "        </div>\n",
       "        "
      ],
      "text/plain": [
       "Chain 9/10: 100%|██████████|10000/10000 [02:28<00:00, 67.53it/s, accept_stat=0.813, diverging=0.00, n_step=7.00]"
      ]
     },
     "metadata": {},
     "output_type": "display_data"
    },
    {
     "data": {
      "text/html": [
       "\n",
       "        <div style=\"line-height: 28px; width: 100%; display: flex;\n",
       "                    flex-flow: row wrap; align-items: center;\n",
       "                    position: relative; margin: 2px;\">\n",
       "          <label style=\"margin-right: 8px; flex-shrink: 0;\n",
       "                        font-size: var(--jp-code-font-size, 13px);\n",
       "                        font-family: var(--jp-code-font-family, monospace);\">\n",
       "            Chain&nbsp;10/10:&nbsp;100%\n",
       "          </label>\n",
       "          <div role=\"progressbar\" aria-valuenow=\"1.0\"\n",
       "               aria-valuemin=\"0\" aria-valuemax=\"1\"\n",
       "               style=\"position: relative; flex-grow: 1; align-self: stretch;\n",
       "                      margin-top: 4px; margin-bottom: 4px;  height: initial;\n",
       "                      background-color: #eee;\">\n",
       "            <div style=\"background-color: var(--jp-success-color1, #4caf50); position: absolute;\n",
       "                        bottom: 0; left: 0; width: 100%;\n",
       "                        height: 100%;\"></div>\n",
       "          </div>\n",
       "          <div style=\"margin-left: 8px; flex-shrink: 0;\n",
       "                      font-family: var(--jp-code-font-family, monospace);\n",
       "                      font-size: var(--jp-code-font-size, 13px);\">\n",
       "            10000/10000 [02:30&lt;00:00, 66.62it/s, accept_stat=0.813, diverging=0.00, n_step=7.00]\n",
       "          </div>\n",
       "        </div>\n",
       "        "
      ],
      "text/plain": [
       "Chain 10/10: 100%|██████████|10000/10000 [02:30<00:00, 66.62it/s, accept_stat=0.813, diverging=0.00, n_step=7.00]"
      ]
     },
     "metadata": {},
     "output_type": "display_data"
    }
   ],
   "source": [
    "# NUTS\n",
    "\n",
    "system = mici.systems.EuclideanMetricSystem(\n",
    "    neg_log_dens= neg_log_gauss_target,\n",
    "    grad_neg_log_dens= grad_neg_log_gauss_target\n",
    ")\n",
    "\n",
    "integrator = mici.integrators.LeapfrogIntegrator(system=system) \n",
    "sampler = mici.samplers.DynamicMultinomialHMC(system,integrator,rng,max_tree_depth=10)\n",
    "\n",
    "adapters = [mici.adapters.DualAveragingStepSizeAdapter()]\n",
    "\n",
    "final_states, traces, stats = sampler.sample_chains_with_adaptive_warm_up(\n",
    "    n_warm_up_iter=n_warm_up_samples, \n",
    "    n_main_iter=n_samples, \n",
    "    init_states=[mici.states.ChainState(pos=np.zeros(n_dims),mom=None,dir=1)]*n_chains,\n",
    "    adapters=adapters,\n",
    "    monitor_stats=['accept_stat', 'diverging', 'n_step'],\n",
    "    display_progress=True,\n",
    "    n_process=n_chains)"
   ]
  },
  {
   "cell_type": "markdown",
   "metadata": {},
   "source": [
    "## Use same adapted step size for all samplers "
   ]
  },
  {
   "cell_type": "code",
   "execution_count": 9,
   "metadata": {},
   "outputs": [
    {
     "name": "stdout",
     "output_type": "stream",
     "text": [
      "0.5180178882359865\n"
     ]
    }
   ],
   "source": [
    "step_size = integrator.step_size\n",
    "print(step_size)"
   ]
  },
  {
   "cell_type": "markdown",
   "metadata": {},
   "source": [
    "## Run HMC"
   ]
  },
  {
   "cell_type": "code",
   "execution_count": 16,
   "metadata": {},
   "outputs": [
    {
     "name": "stdout",
     "output_type": "stream",
     "text": [
      "Each NUTS sample takes 7.0 gradient computations\n"
     ]
    }
   ],
   "source": [
    "print(f'Each NUTS sample takes {np.array(stats[\"n_step\"]).mean()} gradient computations')"
   ]
  },
  {
   "cell_type": "code",
   "execution_count": 19,
   "metadata": {},
   "outputs": [
    {
     "name": "stdout",
     "output_type": "stream",
     "text": [
      "We set HMC to take 3 leapfrog steps per sample.\n"
     ]
    }
   ],
   "source": [
    "hmc_n_steps = int(np.array(stats[\"n_step\"]).mean()/2)\n",
    "print(f'We set HMC to take {hmc_n_steps} leapfrog steps per sample.')"
   ]
  },
  {
   "cell_type": "code",
   "execution_count": 22,
   "metadata": {},
   "outputs": [
    {
     "data": {
      "text/html": [
       "\n",
       "        <div style=\"line-height: 28px; width: 100%; display: flex;\n",
       "                    flex-flow: row wrap; align-items: center;\n",
       "                    position: relative; margin: 2px;\">\n",
       "          <label style=\"margin-right: 8px; flex-shrink: 0;\n",
       "                        font-size: var(--jp-code-font-size, 13px);\n",
       "                        font-family: var(--jp-code-font-family, monospace);\">\n",
       "            Chain&nbsp;1/10:&nbsp;100%\n",
       "          </label>\n",
       "          <div role=\"progressbar\" aria-valuenow=\"1.0\"\n",
       "               aria-valuemin=\"0\" aria-valuemax=\"1\"\n",
       "               style=\"position: relative; flex-grow: 1; align-self: stretch;\n",
       "                      margin-top: 4px; margin-bottom: 4px;  height: initial;\n",
       "                      background-color: #eee;\">\n",
       "            <div style=\"background-color: var(--jp-success-color1, #4caf50); position: absolute;\n",
       "                        bottom: 0; left: 0; width: 100%;\n",
       "                        height: 100%;\"></div>\n",
       "          </div>\n",
       "          <div style=\"margin-left: 8px; flex-shrink: 0;\n",
       "                      font-family: var(--jp-code-font-family, monospace);\n",
       "                      font-size: var(--jp-code-font-size, 13px);\">\n",
       "            10000/10000 [02:30&lt;00:00, 66.40it/s, accept_stat=0.722, diverging=0.00, n_step=3.00]\n",
       "          </div>\n",
       "        </div>\n",
       "        "
      ],
      "text/plain": [
       "Chain 1/10: 100%|██████████|10000/10000 [02:30<00:00, 66.40it/s, accept_stat=0.722, diverging=0.00, n_step=3.00]"
      ]
     },
     "metadata": {},
     "output_type": "display_data"
    },
    {
     "data": {
      "text/html": [
       "\n",
       "        <div style=\"line-height: 28px; width: 100%; display: flex;\n",
       "                    flex-flow: row wrap; align-items: center;\n",
       "                    position: relative; margin: 2px;\">\n",
       "          <label style=\"margin-right: 8px; flex-shrink: 0;\n",
       "                        font-size: var(--jp-code-font-size, 13px);\n",
       "                        font-family: var(--jp-code-font-family, monospace);\">\n",
       "            Chain&nbsp;2/10:&nbsp;100%\n",
       "          </label>\n",
       "          <div role=\"progressbar\" aria-valuenow=\"1.0\"\n",
       "               aria-valuemin=\"0\" aria-valuemax=\"1\"\n",
       "               style=\"position: relative; flex-grow: 1; align-self: stretch;\n",
       "                      margin-top: 4px; margin-bottom: 4px;  height: initial;\n",
       "                      background-color: #eee;\">\n",
       "            <div style=\"background-color: var(--jp-success-color1, #4caf50); position: absolute;\n",
       "                        bottom: 0; left: 0; width: 100%;\n",
       "                        height: 100%;\"></div>\n",
       "          </div>\n",
       "          <div style=\"margin-left: 8px; flex-shrink: 0;\n",
       "                      font-family: var(--jp-code-font-family, monospace);\n",
       "                      font-size: var(--jp-code-font-size, 13px);\">\n",
       "            10000/10000 [02:31&lt;00:00, 65.94it/s, accept_stat=0.734, diverging=0.00, n_step=3.00]\n",
       "          </div>\n",
       "        </div>\n",
       "        "
      ],
      "text/plain": [
       "Chain 2/10: 100%|██████████|10000/10000 [02:31<00:00, 65.94it/s, accept_stat=0.734, diverging=0.00, n_step=3.00]"
      ]
     },
     "metadata": {},
     "output_type": "display_data"
    },
    {
     "data": {
      "text/html": [
       "\n",
       "        <div style=\"line-height: 28px; width: 100%; display: flex;\n",
       "                    flex-flow: row wrap; align-items: center;\n",
       "                    position: relative; margin: 2px;\">\n",
       "          <label style=\"margin-right: 8px; flex-shrink: 0;\n",
       "                        font-size: var(--jp-code-font-size, 13px);\n",
       "                        font-family: var(--jp-code-font-family, monospace);\">\n",
       "            Chain&nbsp;3/10:&nbsp;100%\n",
       "          </label>\n",
       "          <div role=\"progressbar\" aria-valuenow=\"1.0\"\n",
       "               aria-valuemin=\"0\" aria-valuemax=\"1\"\n",
       "               style=\"position: relative; flex-grow: 1; align-self: stretch;\n",
       "                      margin-top: 4px; margin-bottom: 4px;  height: initial;\n",
       "                      background-color: #eee;\">\n",
       "            <div style=\"background-color: var(--jp-success-color1, #4caf50); position: absolute;\n",
       "                        bottom: 0; left: 0; width: 100%;\n",
       "                        height: 100%;\"></div>\n",
       "          </div>\n",
       "          <div style=\"margin-left: 8px; flex-shrink: 0;\n",
       "                      font-family: var(--jp-code-font-family, monospace);\n",
       "                      font-size: var(--jp-code-font-size, 13px);\">\n",
       "            10000/10000 [02:31&lt;00:00, 66.09it/s, accept_stat=0.730, diverging=0.00, n_step=3.00]\n",
       "          </div>\n",
       "        </div>\n",
       "        "
      ],
      "text/plain": [
       "Chain 3/10: 100%|██████████|10000/10000 [02:31<00:00, 66.09it/s, accept_stat=0.730, diverging=0.00, n_step=3.00]"
      ]
     },
     "metadata": {},
     "output_type": "display_data"
    },
    {
     "data": {
      "text/html": [
       "\n",
       "        <div style=\"line-height: 28px; width: 100%; display: flex;\n",
       "                    flex-flow: row wrap; align-items: center;\n",
       "                    position: relative; margin: 2px;\">\n",
       "          <label style=\"margin-right: 8px; flex-shrink: 0;\n",
       "                        font-size: var(--jp-code-font-size, 13px);\n",
       "                        font-family: var(--jp-code-font-family, monospace);\">\n",
       "            Chain&nbsp;4/10:&nbsp;100%\n",
       "          </label>\n",
       "          <div role=\"progressbar\" aria-valuenow=\"1.0\"\n",
       "               aria-valuemin=\"0\" aria-valuemax=\"1\"\n",
       "               style=\"position: relative; flex-grow: 1; align-self: stretch;\n",
       "                      margin-top: 4px; margin-bottom: 4px;  height: initial;\n",
       "                      background-color: #eee;\">\n",
       "            <div style=\"background-color: var(--jp-success-color1, #4caf50); position: absolute;\n",
       "                        bottom: 0; left: 0; width: 100%;\n",
       "                        height: 100%;\"></div>\n",
       "          </div>\n",
       "          <div style=\"margin-left: 8px; flex-shrink: 0;\n",
       "                      font-family: var(--jp-code-font-family, monospace);\n",
       "                      font-size: var(--jp-code-font-size, 13px);\">\n",
       "            10000/10000 [02:32&lt;00:00, 65.64it/s, accept_stat=0.731, diverging=0.00, n_step=3.00]\n",
       "          </div>\n",
       "        </div>\n",
       "        "
      ],
      "text/plain": [
       "Chain 4/10: 100%|██████████|10000/10000 [02:32<00:00, 65.64it/s, accept_stat=0.731, diverging=0.00, n_step=3.00]"
      ]
     },
     "metadata": {},
     "output_type": "display_data"
    },
    {
     "data": {
      "text/html": [
       "\n",
       "        <div style=\"line-height: 28px; width: 100%; display: flex;\n",
       "                    flex-flow: row wrap; align-items: center;\n",
       "                    position: relative; margin: 2px;\">\n",
       "          <label style=\"margin-right: 8px; flex-shrink: 0;\n",
       "                        font-size: var(--jp-code-font-size, 13px);\n",
       "                        font-family: var(--jp-code-font-family, monospace);\">\n",
       "            Chain&nbsp;5/10:&nbsp;100%\n",
       "          </label>\n",
       "          <div role=\"progressbar\" aria-valuenow=\"1.0\"\n",
       "               aria-valuemin=\"0\" aria-valuemax=\"1\"\n",
       "               style=\"position: relative; flex-grow: 1; align-self: stretch;\n",
       "                      margin-top: 4px; margin-bottom: 4px;  height: initial;\n",
       "                      background-color: #eee;\">\n",
       "            <div style=\"background-color: var(--jp-success-color1, #4caf50); position: absolute;\n",
       "                        bottom: 0; left: 0; width: 100%;\n",
       "                        height: 100%;\"></div>\n",
       "          </div>\n",
       "          <div style=\"margin-left: 8px; flex-shrink: 0;\n",
       "                      font-family: var(--jp-code-font-family, monospace);\n",
       "                      font-size: var(--jp-code-font-size, 13px);\">\n",
       "            10000/10000 [02:30&lt;00:00, 66.36it/s, accept_stat=0.721, diverging=0.00, n_step=3.00]\n",
       "          </div>\n",
       "        </div>\n",
       "        "
      ],
      "text/plain": [
       "Chain 5/10: 100%|██████████|10000/10000 [02:30<00:00, 66.36it/s, accept_stat=0.721, diverging=0.00, n_step=3.00]"
      ]
     },
     "metadata": {},
     "output_type": "display_data"
    },
    {
     "data": {
      "text/html": [
       "\n",
       "        <div style=\"line-height: 28px; width: 100%; display: flex;\n",
       "                    flex-flow: row wrap; align-items: center;\n",
       "                    position: relative; margin: 2px;\">\n",
       "          <label style=\"margin-right: 8px; flex-shrink: 0;\n",
       "                        font-size: var(--jp-code-font-size, 13px);\n",
       "                        font-family: var(--jp-code-font-family, monospace);\">\n",
       "            Chain&nbsp;6/10:&nbsp;100%\n",
       "          </label>\n",
       "          <div role=\"progressbar\" aria-valuenow=\"1.0\"\n",
       "               aria-valuemin=\"0\" aria-valuemax=\"1\"\n",
       "               style=\"position: relative; flex-grow: 1; align-self: stretch;\n",
       "                      margin-top: 4px; margin-bottom: 4px;  height: initial;\n",
       "                      background-color: #eee;\">\n",
       "            <div style=\"background-color: var(--jp-success-color1, #4caf50); position: absolute;\n",
       "                        bottom: 0; left: 0; width: 100%;\n",
       "                        height: 100%;\"></div>\n",
       "          </div>\n",
       "          <div style=\"margin-left: 8px; flex-shrink: 0;\n",
       "                      font-family: var(--jp-code-font-family, monospace);\n",
       "                      font-size: var(--jp-code-font-size, 13px);\">\n",
       "            10000/10000 [02:31&lt;00:00, 66.05it/s, accept_stat=0.726, diverging=0.00, n_step=3.00]\n",
       "          </div>\n",
       "        </div>\n",
       "        "
      ],
      "text/plain": [
       "Chain 6/10: 100%|██████████|10000/10000 [02:31<00:00, 66.05it/s, accept_stat=0.726, diverging=0.00, n_step=3.00]"
      ]
     },
     "metadata": {},
     "output_type": "display_data"
    },
    {
     "data": {
      "text/html": [
       "\n",
       "        <div style=\"line-height: 28px; width: 100%; display: flex;\n",
       "                    flex-flow: row wrap; align-items: center;\n",
       "                    position: relative; margin: 2px;\">\n",
       "          <label style=\"margin-right: 8px; flex-shrink: 0;\n",
       "                        font-size: var(--jp-code-font-size, 13px);\n",
       "                        font-family: var(--jp-code-font-family, monospace);\">\n",
       "            Chain&nbsp;7/10:&nbsp;100%\n",
       "          </label>\n",
       "          <div role=\"progressbar\" aria-valuenow=\"1.0\"\n",
       "               aria-valuemin=\"0\" aria-valuemax=\"1\"\n",
       "               style=\"position: relative; flex-grow: 1; align-self: stretch;\n",
       "                      margin-top: 4px; margin-bottom: 4px;  height: initial;\n",
       "                      background-color: #eee;\">\n",
       "            <div style=\"background-color: var(--jp-success-color1, #4caf50); position: absolute;\n",
       "                        bottom: 0; left: 0; width: 100%;\n",
       "                        height: 100%;\"></div>\n",
       "          </div>\n",
       "          <div style=\"margin-left: 8px; flex-shrink: 0;\n",
       "                      font-family: var(--jp-code-font-family, monospace);\n",
       "                      font-size: var(--jp-code-font-size, 13px);\">\n",
       "            10000/10000 [02:30&lt;00:00, 66.40it/s, accept_stat=0.726, diverging=0.00, n_step=3.00]\n",
       "          </div>\n",
       "        </div>\n",
       "        "
      ],
      "text/plain": [
       "Chain 7/10: 100%|██████████|10000/10000 [02:30<00:00, 66.40it/s, accept_stat=0.726, diverging=0.00, n_step=3.00]"
      ]
     },
     "metadata": {},
     "output_type": "display_data"
    },
    {
     "data": {
      "text/html": [
       "\n",
       "        <div style=\"line-height: 28px; width: 100%; display: flex;\n",
       "                    flex-flow: row wrap; align-items: center;\n",
       "                    position: relative; margin: 2px;\">\n",
       "          <label style=\"margin-right: 8px; flex-shrink: 0;\n",
       "                        font-size: var(--jp-code-font-size, 13px);\n",
       "                        font-family: var(--jp-code-font-family, monospace);\">\n",
       "            Chain&nbsp;8/10:&nbsp;100%\n",
       "          </label>\n",
       "          <div role=\"progressbar\" aria-valuenow=\"1.0\"\n",
       "               aria-valuemin=\"0\" aria-valuemax=\"1\"\n",
       "               style=\"position: relative; flex-grow: 1; align-self: stretch;\n",
       "                      margin-top: 4px; margin-bottom: 4px;  height: initial;\n",
       "                      background-color: #eee;\">\n",
       "            <div style=\"background-color: var(--jp-success-color1, #4caf50); position: absolute;\n",
       "                        bottom: 0; left: 0; width: 100%;\n",
       "                        height: 100%;\"></div>\n",
       "          </div>\n",
       "          <div style=\"margin-left: 8px; flex-shrink: 0;\n",
       "                      font-family: var(--jp-code-font-family, monospace);\n",
       "                      font-size: var(--jp-code-font-size, 13px);\">\n",
       "            10000/10000 [02:30&lt;00:00, 66.51it/s, accept_stat=0.722, diverging=0.00, n_step=3.00]\n",
       "          </div>\n",
       "        </div>\n",
       "        "
      ],
      "text/plain": [
       "Chain 8/10: 100%|██████████|10000/10000 [02:30<00:00, 66.51it/s, accept_stat=0.722, diverging=0.00, n_step=3.00]"
      ]
     },
     "metadata": {},
     "output_type": "display_data"
    },
    {
     "data": {
      "text/html": [
       "\n",
       "        <div style=\"line-height: 28px; width: 100%; display: flex;\n",
       "                    flex-flow: row wrap; align-items: center;\n",
       "                    position: relative; margin: 2px;\">\n",
       "          <label style=\"margin-right: 8px; flex-shrink: 0;\n",
       "                        font-size: var(--jp-code-font-size, 13px);\n",
       "                        font-family: var(--jp-code-font-family, monospace);\">\n",
       "            Chain&nbsp;9/10:&nbsp;100%\n",
       "          </label>\n",
       "          <div role=\"progressbar\" aria-valuenow=\"1.0\"\n",
       "               aria-valuemin=\"0\" aria-valuemax=\"1\"\n",
       "               style=\"position: relative; flex-grow: 1; align-self: stretch;\n",
       "                      margin-top: 4px; margin-bottom: 4px;  height: initial;\n",
       "                      background-color: #eee;\">\n",
       "            <div style=\"background-color: var(--jp-success-color1, #4caf50); position: absolute;\n",
       "                        bottom: 0; left: 0; width: 100%;\n",
       "                        height: 100%;\"></div>\n",
       "          </div>\n",
       "          <div style=\"margin-left: 8px; flex-shrink: 0;\n",
       "                      font-family: var(--jp-code-font-family, monospace);\n",
       "                      font-size: var(--jp-code-font-size, 13px);\">\n",
       "            10000/10000 [02:30&lt;00:00, 66.54it/s, accept_stat=0.726, diverging=0.00, n_step=3.00]\n",
       "          </div>\n",
       "        </div>\n",
       "        "
      ],
      "text/plain": [
       "Chain 9/10: 100%|██████████|10000/10000 [02:30<00:00, 66.54it/s, accept_stat=0.726, diverging=0.00, n_step=3.00]"
      ]
     },
     "metadata": {},
     "output_type": "display_data"
    },
    {
     "data": {
      "text/html": [
       "\n",
       "        <div style=\"line-height: 28px; width: 100%; display: flex;\n",
       "                    flex-flow: row wrap; align-items: center;\n",
       "                    position: relative; margin: 2px;\">\n",
       "          <label style=\"margin-right: 8px; flex-shrink: 0;\n",
       "                        font-size: var(--jp-code-font-size, 13px);\n",
       "                        font-family: var(--jp-code-font-family, monospace);\">\n",
       "            Chain&nbsp;10/10:&nbsp;100%\n",
       "          </label>\n",
       "          <div role=\"progressbar\" aria-valuenow=\"1.0\"\n",
       "               aria-valuemin=\"0\" aria-valuemax=\"1\"\n",
       "               style=\"position: relative; flex-grow: 1; align-self: stretch;\n",
       "                      margin-top: 4px; margin-bottom: 4px;  height: initial;\n",
       "                      background-color: #eee;\">\n",
       "            <div style=\"background-color: var(--jp-success-color1, #4caf50); position: absolute;\n",
       "                        bottom: 0; left: 0; width: 100%;\n",
       "                        height: 100%;\"></div>\n",
       "          </div>\n",
       "          <div style=\"margin-left: 8px; flex-shrink: 0;\n",
       "                      font-family: var(--jp-code-font-family, monospace);\n",
       "                      font-size: var(--jp-code-font-size, 13px);\">\n",
       "            10000/10000 [02:32&lt;00:00, 65.67it/s, accept_stat=0.734, diverging=0.00, n_step=3.00]\n",
       "          </div>\n",
       "        </div>\n",
       "        "
      ],
      "text/plain": [
       "Chain 10/10: 100%|██████████|10000/10000 [02:32<00:00, 65.67it/s, accept_stat=0.734, diverging=0.00, n_step=3.00]"
      ]
     },
     "metadata": {},
     "output_type": "display_data"
    }
   ],
   "source": [
    "# HMC\n",
    "hmc_integrator = mici.integrators.LeapfrogIntegrator(system=system, step_size=step_size) \n",
    "hmc_sampler = mici.samplers.StaticMetropolisHMC(system, hmc_integrator,rng, n_step=hmc_n_steps)\n",
    "\n",
    "final_states_hmc, traces_hmc, stats_hmc = hmc_sampler.sample_chains(\n",
    "    n_iter=n_samples, \n",
    "    init_states=[mici.states.ChainState(pos=np.zeros(n_dims),mom=None,dir=1)]*n_chains,\n",
    "    monitor_stats=['accept_stat', 'diverging', 'n_step'],\n",
    "    display_progress=True,\n",
    "    n_process=n_chains)"
   ]
  },
  {
   "cell_type": "markdown",
   "metadata": {},
   "source": [
    "## Run MALA"
   ]
  },
  {
   "cell_type": "code",
   "execution_count": 23,
   "metadata": {},
   "outputs": [
    {
     "data": {
      "text/html": [
       "\n",
       "        <div style=\"line-height: 28px; width: 100%; display: flex;\n",
       "                    flex-flow: row wrap; align-items: center;\n",
       "                    position: relative; margin: 2px;\">\n",
       "          <label style=\"margin-right: 8px; flex-shrink: 0;\n",
       "                        font-size: var(--jp-code-font-size, 13px);\n",
       "                        font-family: var(--jp-code-font-family, monospace);\">\n",
       "            Chain&nbsp;1/10:&nbsp;100%\n",
       "          </label>\n",
       "          <div role=\"progressbar\" aria-valuenow=\"1.0\"\n",
       "               aria-valuemin=\"0\" aria-valuemax=\"1\"\n",
       "               style=\"position: relative; flex-grow: 1; align-self: stretch;\n",
       "                      margin-top: 4px; margin-bottom: 4px;  height: initial;\n",
       "                      background-color: #eee;\">\n",
       "            <div style=\"background-color: var(--jp-success-color1, #4caf50); position: absolute;\n",
       "                        bottom: 0; left: 0; width: 100%;\n",
       "                        height: 100%;\"></div>\n",
       "          </div>\n",
       "          <div style=\"margin-left: 8px; flex-shrink: 0;\n",
       "                      font-family: var(--jp-code-font-family, monospace);\n",
       "                      font-size: var(--jp-code-font-size, 13px);\">\n",
       "            10000/10000 [02:23&lt;00:00, 69.61it/s, accept_stat=0.865, diverging=0.00, n_step=1.00]\n",
       "          </div>\n",
       "        </div>\n",
       "        "
      ],
      "text/plain": [
       "Chain 1/10: 100%|██████████|10000/10000 [02:23<00:00, 69.61it/s, accept_stat=0.865, diverging=0.00, n_step=1.00]"
      ]
     },
     "metadata": {},
     "output_type": "display_data"
    },
    {
     "data": {
      "text/html": [
       "\n",
       "        <div style=\"line-height: 28px; width: 100%; display: flex;\n",
       "                    flex-flow: row wrap; align-items: center;\n",
       "                    position: relative; margin: 2px;\">\n",
       "          <label style=\"margin-right: 8px; flex-shrink: 0;\n",
       "                        font-size: var(--jp-code-font-size, 13px);\n",
       "                        font-family: var(--jp-code-font-family, monospace);\">\n",
       "            Chain&nbsp;2/10:&nbsp;100%\n",
       "          </label>\n",
       "          <div role=\"progressbar\" aria-valuenow=\"1.0\"\n",
       "               aria-valuemin=\"0\" aria-valuemax=\"1\"\n",
       "               style=\"position: relative; flex-grow: 1; align-self: stretch;\n",
       "                      margin-top: 4px; margin-bottom: 4px;  height: initial;\n",
       "                      background-color: #eee;\">\n",
       "            <div style=\"background-color: var(--jp-success-color1, #4caf50); position: absolute;\n",
       "                        bottom: 0; left: 0; width: 100%;\n",
       "                        height: 100%;\"></div>\n",
       "          </div>\n",
       "          <div style=\"margin-left: 8px; flex-shrink: 0;\n",
       "                      font-family: var(--jp-code-font-family, monospace);\n",
       "                      font-size: var(--jp-code-font-size, 13px);\">\n",
       "            10000/10000 [02:23&lt;00:00, 69.54it/s, accept_stat=0.863, diverging=0.00, n_step=1.00]\n",
       "          </div>\n",
       "        </div>\n",
       "        "
      ],
      "text/plain": [
       "Chain 2/10: 100%|██████████|10000/10000 [02:23<00:00, 69.54it/s, accept_stat=0.863, diverging=0.00, n_step=1.00]"
      ]
     },
     "metadata": {},
     "output_type": "display_data"
    },
    {
     "data": {
      "text/html": [
       "\n",
       "        <div style=\"line-height: 28px; width: 100%; display: flex;\n",
       "                    flex-flow: row wrap; align-items: center;\n",
       "                    position: relative; margin: 2px;\">\n",
       "          <label style=\"margin-right: 8px; flex-shrink: 0;\n",
       "                        font-size: var(--jp-code-font-size, 13px);\n",
       "                        font-family: var(--jp-code-font-family, monospace);\">\n",
       "            Chain&nbsp;3/10:&nbsp;100%\n",
       "          </label>\n",
       "          <div role=\"progressbar\" aria-valuenow=\"1.0\"\n",
       "               aria-valuemin=\"0\" aria-valuemax=\"1\"\n",
       "               style=\"position: relative; flex-grow: 1; align-self: stretch;\n",
       "                      margin-top: 4px; margin-bottom: 4px;  height: initial;\n",
       "                      background-color: #eee;\">\n",
       "            <div style=\"background-color: var(--jp-success-color1, #4caf50); position: absolute;\n",
       "                        bottom: 0; left: 0; width: 100%;\n",
       "                        height: 100%;\"></div>\n",
       "          </div>\n",
       "          <div style=\"margin-left: 8px; flex-shrink: 0;\n",
       "                      font-family: var(--jp-code-font-family, monospace);\n",
       "                      font-size: var(--jp-code-font-size, 13px);\">\n",
       "            10000/10000 [02:23&lt;00:00, 69.67it/s, accept_stat=0.863, diverging=0.00, n_step=1.00]\n",
       "          </div>\n",
       "        </div>\n",
       "        "
      ],
      "text/plain": [
       "Chain 3/10: 100%|██████████|10000/10000 [02:23<00:00, 69.67it/s, accept_stat=0.863, diverging=0.00, n_step=1.00]"
      ]
     },
     "metadata": {},
     "output_type": "display_data"
    },
    {
     "data": {
      "text/html": [
       "\n",
       "        <div style=\"line-height: 28px; width: 100%; display: flex;\n",
       "                    flex-flow: row wrap; align-items: center;\n",
       "                    position: relative; margin: 2px;\">\n",
       "          <label style=\"margin-right: 8px; flex-shrink: 0;\n",
       "                        font-size: var(--jp-code-font-size, 13px);\n",
       "                        font-family: var(--jp-code-font-family, monospace);\">\n",
       "            Chain&nbsp;4/10:&nbsp;100%\n",
       "          </label>\n",
       "          <div role=\"progressbar\" aria-valuenow=\"1.0\"\n",
       "               aria-valuemin=\"0\" aria-valuemax=\"1\"\n",
       "               style=\"position: relative; flex-grow: 1; align-self: stretch;\n",
       "                      margin-top: 4px; margin-bottom: 4px;  height: initial;\n",
       "                      background-color: #eee;\">\n",
       "            <div style=\"background-color: var(--jp-success-color1, #4caf50); position: absolute;\n",
       "                        bottom: 0; left: 0; width: 100%;\n",
       "                        height: 100%;\"></div>\n",
       "          </div>\n",
       "          <div style=\"margin-left: 8px; flex-shrink: 0;\n",
       "                      font-family: var(--jp-code-font-family, monospace);\n",
       "                      font-size: var(--jp-code-font-size, 13px);\">\n",
       "            10000/10000 [02:22&lt;00:00, 70.10it/s, accept_stat=0.863, diverging=0.00, n_step=1.00]\n",
       "          </div>\n",
       "        </div>\n",
       "        "
      ],
      "text/plain": [
       "Chain 4/10: 100%|██████████|10000/10000 [02:22<00:00, 70.10it/s, accept_stat=0.863, diverging=0.00, n_step=1.00]"
      ]
     },
     "metadata": {},
     "output_type": "display_data"
    },
    {
     "data": {
      "text/html": [
       "\n",
       "        <div style=\"line-height: 28px; width: 100%; display: flex;\n",
       "                    flex-flow: row wrap; align-items: center;\n",
       "                    position: relative; margin: 2px;\">\n",
       "          <label style=\"margin-right: 8px; flex-shrink: 0;\n",
       "                        font-size: var(--jp-code-font-size, 13px);\n",
       "                        font-family: var(--jp-code-font-family, monospace);\">\n",
       "            Chain&nbsp;5/10:&nbsp;100%\n",
       "          </label>\n",
       "          <div role=\"progressbar\" aria-valuenow=\"1.0\"\n",
       "               aria-valuemin=\"0\" aria-valuemax=\"1\"\n",
       "               style=\"position: relative; flex-grow: 1; align-self: stretch;\n",
       "                      margin-top: 4px; margin-bottom: 4px;  height: initial;\n",
       "                      background-color: #eee;\">\n",
       "            <div style=\"background-color: var(--jp-success-color1, #4caf50); position: absolute;\n",
       "                        bottom: 0; left: 0; width: 100%;\n",
       "                        height: 100%;\"></div>\n",
       "          </div>\n",
       "          <div style=\"margin-left: 8px; flex-shrink: 0;\n",
       "                      font-family: var(--jp-code-font-family, monospace);\n",
       "                      font-size: var(--jp-code-font-size, 13px);\">\n",
       "            10000/10000 [02:23&lt;00:00, 69.54it/s, accept_stat=0.863, diverging=0.00, n_step=1.00]\n",
       "          </div>\n",
       "        </div>\n",
       "        "
      ],
      "text/plain": [
       "Chain 5/10: 100%|██████████|10000/10000 [02:23<00:00, 69.54it/s, accept_stat=0.863, diverging=0.00, n_step=1.00]"
      ]
     },
     "metadata": {},
     "output_type": "display_data"
    },
    {
     "data": {
      "text/html": [
       "\n",
       "        <div style=\"line-height: 28px; width: 100%; display: flex;\n",
       "                    flex-flow: row wrap; align-items: center;\n",
       "                    position: relative; margin: 2px;\">\n",
       "          <label style=\"margin-right: 8px; flex-shrink: 0;\n",
       "                        font-size: var(--jp-code-font-size, 13px);\n",
       "                        font-family: var(--jp-code-font-family, monospace);\">\n",
       "            Chain&nbsp;6/10:&nbsp;100%\n",
       "          </label>\n",
       "          <div role=\"progressbar\" aria-valuenow=\"1.0\"\n",
       "               aria-valuemin=\"0\" aria-valuemax=\"1\"\n",
       "               style=\"position: relative; flex-grow: 1; align-self: stretch;\n",
       "                      margin-top: 4px; margin-bottom: 4px;  height: initial;\n",
       "                      background-color: #eee;\">\n",
       "            <div style=\"background-color: var(--jp-success-color1, #4caf50); position: absolute;\n",
       "                        bottom: 0; left: 0; width: 100%;\n",
       "                        height: 100%;\"></div>\n",
       "          </div>\n",
       "          <div style=\"margin-left: 8px; flex-shrink: 0;\n",
       "                      font-family: var(--jp-code-font-family, monospace);\n",
       "                      font-size: var(--jp-code-font-size, 13px);\">\n",
       "            10000/10000 [02:22&lt;00:00, 70.06it/s, accept_stat=0.865, diverging=0.00, n_step=1.00]\n",
       "          </div>\n",
       "        </div>\n",
       "        "
      ],
      "text/plain": [
       "Chain 6/10: 100%|██████████|10000/10000 [02:22<00:00, 70.06it/s, accept_stat=0.865, diverging=0.00, n_step=1.00]"
      ]
     },
     "metadata": {},
     "output_type": "display_data"
    },
    {
     "data": {
      "text/html": [
       "\n",
       "        <div style=\"line-height: 28px; width: 100%; display: flex;\n",
       "                    flex-flow: row wrap; align-items: center;\n",
       "                    position: relative; margin: 2px;\">\n",
       "          <label style=\"margin-right: 8px; flex-shrink: 0;\n",
       "                        font-size: var(--jp-code-font-size, 13px);\n",
       "                        font-family: var(--jp-code-font-family, monospace);\">\n",
       "            Chain&nbsp;7/10:&nbsp;100%\n",
       "          </label>\n",
       "          <div role=\"progressbar\" aria-valuenow=\"1.0\"\n",
       "               aria-valuemin=\"0\" aria-valuemax=\"1\"\n",
       "               style=\"position: relative; flex-grow: 1; align-self: stretch;\n",
       "                      margin-top: 4px; margin-bottom: 4px;  height: initial;\n",
       "                      background-color: #eee;\">\n",
       "            <div style=\"background-color: var(--jp-success-color1, #4caf50); position: absolute;\n",
       "                        bottom: 0; left: 0; width: 100%;\n",
       "                        height: 100%;\"></div>\n",
       "          </div>\n",
       "          <div style=\"margin-left: 8px; flex-shrink: 0;\n",
       "                      font-family: var(--jp-code-font-family, monospace);\n",
       "                      font-size: var(--jp-code-font-size, 13px);\">\n",
       "            10000/10000 [02:22&lt;00:00, 69.98it/s, accept_stat=0.861, diverging=0.00, n_step=1.00]\n",
       "          </div>\n",
       "        </div>\n",
       "        "
      ],
      "text/plain": [
       "Chain 7/10: 100%|██████████|10000/10000 [02:22<00:00, 69.98it/s, accept_stat=0.861, diverging=0.00, n_step=1.00]"
      ]
     },
     "metadata": {},
     "output_type": "display_data"
    },
    {
     "data": {
      "text/html": [
       "\n",
       "        <div style=\"line-height: 28px; width: 100%; display: flex;\n",
       "                    flex-flow: row wrap; align-items: center;\n",
       "                    position: relative; margin: 2px;\">\n",
       "          <label style=\"margin-right: 8px; flex-shrink: 0;\n",
       "                        font-size: var(--jp-code-font-size, 13px);\n",
       "                        font-family: var(--jp-code-font-family, monospace);\">\n",
       "            Chain&nbsp;8/10:&nbsp;100%\n",
       "          </label>\n",
       "          <div role=\"progressbar\" aria-valuenow=\"1.0\"\n",
       "               aria-valuemin=\"0\" aria-valuemax=\"1\"\n",
       "               style=\"position: relative; flex-grow: 1; align-self: stretch;\n",
       "                      margin-top: 4px; margin-bottom: 4px;  height: initial;\n",
       "                      background-color: #eee;\">\n",
       "            <div style=\"background-color: var(--jp-success-color1, #4caf50); position: absolute;\n",
       "                        bottom: 0; left: 0; width: 100%;\n",
       "                        height: 100%;\"></div>\n",
       "          </div>\n",
       "          <div style=\"margin-left: 8px; flex-shrink: 0;\n",
       "                      font-family: var(--jp-code-font-family, monospace);\n",
       "                      font-size: var(--jp-code-font-size, 13px);\">\n",
       "            10000/10000 [02:22&lt;00:00, 70.23it/s, accept_stat=0.865, diverging=0.00, n_step=1.00]\n",
       "          </div>\n",
       "        </div>\n",
       "        "
      ],
      "text/plain": [
       "Chain 8/10: 100%|██████████|10000/10000 [02:22<00:00, 70.23it/s, accept_stat=0.865, diverging=0.00, n_step=1.00]"
      ]
     },
     "metadata": {},
     "output_type": "display_data"
    },
    {
     "data": {
      "text/html": [
       "\n",
       "        <div style=\"line-height: 28px; width: 100%; display: flex;\n",
       "                    flex-flow: row wrap; align-items: center;\n",
       "                    position: relative; margin: 2px;\">\n",
       "          <label style=\"margin-right: 8px; flex-shrink: 0;\n",
       "                        font-size: var(--jp-code-font-size, 13px);\n",
       "                        font-family: var(--jp-code-font-family, monospace);\">\n",
       "            Chain&nbsp;9/10:&nbsp;100%\n",
       "          </label>\n",
       "          <div role=\"progressbar\" aria-valuenow=\"1.0\"\n",
       "               aria-valuemin=\"0\" aria-valuemax=\"1\"\n",
       "               style=\"position: relative; flex-grow: 1; align-self: stretch;\n",
       "                      margin-top: 4px; margin-bottom: 4px;  height: initial;\n",
       "                      background-color: #eee;\">\n",
       "            <div style=\"background-color: var(--jp-success-color1, #4caf50); position: absolute;\n",
       "                        bottom: 0; left: 0; width: 100%;\n",
       "                        height: 100%;\"></div>\n",
       "          </div>\n",
       "          <div style=\"margin-left: 8px; flex-shrink: 0;\n",
       "                      font-family: var(--jp-code-font-family, monospace);\n",
       "                      font-size: var(--jp-code-font-size, 13px);\">\n",
       "            10000/10000 [02:21&lt;00:00, 70.68it/s, accept_stat=0.862, diverging=0.00, n_step=1.00]\n",
       "          </div>\n",
       "        </div>\n",
       "        "
      ],
      "text/plain": [
       "Chain 9/10: 100%|██████████|10000/10000 [02:21<00:00, 70.68it/s, accept_stat=0.862, diverging=0.00, n_step=1.00]"
      ]
     },
     "metadata": {},
     "output_type": "display_data"
    },
    {
     "data": {
      "text/html": [
       "\n",
       "        <div style=\"line-height: 28px; width: 100%; display: flex;\n",
       "                    flex-flow: row wrap; align-items: center;\n",
       "                    position: relative; margin: 2px;\">\n",
       "          <label style=\"margin-right: 8px; flex-shrink: 0;\n",
       "                        font-size: var(--jp-code-font-size, 13px);\n",
       "                        font-family: var(--jp-code-font-family, monospace);\">\n",
       "            Chain&nbsp;10/10:&nbsp;100%\n",
       "          </label>\n",
       "          <div role=\"progressbar\" aria-valuenow=\"1.0\"\n",
       "               aria-valuemin=\"0\" aria-valuemax=\"1\"\n",
       "               style=\"position: relative; flex-grow: 1; align-self: stretch;\n",
       "                      margin-top: 4px; margin-bottom: 4px;  height: initial;\n",
       "                      background-color: #eee;\">\n",
       "            <div style=\"background-color: var(--jp-success-color1, #4caf50); position: absolute;\n",
       "                        bottom: 0; left: 0; width: 100%;\n",
       "                        height: 100%;\"></div>\n",
       "          </div>\n",
       "          <div style=\"margin-left: 8px; flex-shrink: 0;\n",
       "                      font-family: var(--jp-code-font-family, monospace);\n",
       "                      font-size: var(--jp-code-font-size, 13px);\">\n",
       "            10000/10000 [02:21&lt;00:00, 70.53it/s, accept_stat=0.863, diverging=0.00, n_step=1.00]\n",
       "          </div>\n",
       "        </div>\n",
       "        "
      ],
      "text/plain": [
       "Chain 10/10: 100%|██████████|10000/10000 [02:21<00:00, 70.53it/s, accept_stat=0.863, diverging=0.00, n_step=1.00]"
      ]
     },
     "metadata": {},
     "output_type": "display_data"
    }
   ],
   "source": [
    "# MALA\n",
    "\n",
    "mala_integrator = mici.integrators.LeapfrogIntegrator(system=system, step_size=step_size) \n",
    "mala_sampler = mici.samplers.StaticMetropolisHMC(system, mala_integrator,rng, n_step=1)\n",
    "\n",
    "final_states_mala, traces_mala, stats_mala = mala_sampler.sample_chains(\n",
    "    n_iter=n_samples, \n",
    "    init_states=[mici.states.ChainState(pos=np.zeros(n_dims),mom=None,dir=1)]*n_chains,\n",
    "    monitor_stats=['accept_stat', 'diverging', 'n_step'],\n",
    "    display_progress=True,\n",
    "    n_process=n_chains)"
   ]
  },
  {
   "cell_type": "markdown",
   "metadata": {},
   "source": [
    "## Total gradient call\n",
    "\n",
    "Each method takes (`n_step` x `n_chains` x `n_samples`) gradient calls. `n_step` is 7 for NUTS, 3 for HMC, and 1 for MALA."
   ]
  },
  {
   "cell_type": "code",
   "execution_count": 51,
   "metadata": {},
   "outputs": [],
   "source": [
    "n_grad_calls_nuts = n_samples * n_chains * np.array(stats[\"n_step\"]).mean()\n",
    "n_grad_calls_hmc = n_samples * n_chains * hmc_n_steps\n",
    "n_grad_calls_mala = n_samples * n_chains"
   ]
  },
  {
   "cell_type": "code",
   "execution_count": 53,
   "metadata": {},
   "outputs": [
    {
     "name": "stdout",
     "output_type": "stream",
     "text": [
      "Gradient calls for NUTS = 700000.0 / HMC = 300000 / MALA: 100000\n"
     ]
    }
   ],
   "source": [
    "print(f'Gradient calls for NUTS = {n_grad_calls_nuts} / HMC = {n_grad_calls_hmc} / MALA: {n_grad_calls_mala}')"
   ]
  },
  {
   "cell_type": "markdown",
   "metadata": {},
   "source": [
    "We can look at the call counts in the states to double check."
   ]
  },
  {
   "cell_type": "code",
   "execution_count": 42,
   "metadata": {},
   "outputs": [
    {
     "data": {
      "text/plain": [
       "Counter({('EuclideanMetricSystem.neg_log_dens', 140204894906896): 8299,\n",
       "         ('EuclideanMetricSystem.dh2_dmom', 140204894906896): 17595,\n",
       "         ('EuclideanMetricSystem.h2', 140204894906896): 9298,\n",
       "         ('EuclideanMetricSystem.grad_neg_log_dens', 140204894906896): 8302,\n",
       "         ('EuclideanMetricSystem.neg_log_dens', 140204894964560): 70001,\n",
       "         ('EuclideanMetricSystem.dh2_dmom', 140204894964560): 150001,\n",
       "         ('EuclideanMetricSystem.h2', 140204894964560): 80001,\n",
       "         ('EuclideanMetricSystem.grad_neg_log_dens', 140204894964560): 70002})"
      ]
     },
     "execution_count": 42,
     "metadata": {},
     "output_type": "execute_result"
    }
   ],
   "source": [
    "# Inspect 'grad_neg_log_dens' to confirm\n",
    "final_states[0]._call_counts # NUTS should be 70_000"
   ]
  },
  {
   "cell_type": "code",
   "execution_count": 43,
   "metadata": {},
   "outputs": [
    {
     "data": {
      "text/plain": [
       "Counter({('EuclideanMetricSystem.neg_log_dens', 140204894964944): 10001,\n",
       "         ('EuclideanMetricSystem.dh2_dmom', 140204894964944): 50001,\n",
       "         ('EuclideanMetricSystem.h2', 140204894964944): 20001,\n",
       "         ('EuclideanMetricSystem.grad_neg_log_dens', 140204894964944): 30136})"
      ]
     },
     "execution_count": 43,
     "metadata": {},
     "output_type": "execute_result"
    }
   ],
   "source": [
    "final_states_hmc[0]._call_counts #HMC should be 30_000"
   ]
  },
  {
   "cell_type": "code",
   "execution_count": 44,
   "metadata": {},
   "outputs": [
    {
     "data": {
      "text/plain": [
       "Counter({('EuclideanMetricSystem.neg_log_dens', 140211045125456): 10001,\n",
       "         ('EuclideanMetricSystem.dh2_dmom', 140211045125456): 30001,\n",
       "         ('EuclideanMetricSystem.h2', 140211045125456): 20001,\n",
       "         ('EuclideanMetricSystem.grad_neg_log_dens', 140211045125456): 10003})"
      ]
     },
     "execution_count": 44,
     "metadata": {},
     "output_type": "execute_result"
    }
   ],
   "source": [
    "final_states_mala[0]._call_counts # MALA should be 10_000"
   ]
  },
  {
   "cell_type": "markdown",
   "metadata": {},
   "source": [
    "## Compute ESS of position for each dimension"
   ]
  },
  {
   "cell_type": "code",
   "execution_count": 56,
   "metadata": {},
   "outputs": [],
   "source": [
    "pos_nuts = np.array(traces['pos'])\n",
    "pos_hmc = np.array(traces_hmc['pos'])\n",
    "pos_mala = np.array(traces_mala['pos'])\n",
    "\n",
    "ess_pos_nuts = arviz.ess(arviz.convert_to_dataset(pos_nuts)).x\n",
    "ess_pos_hmc = arviz.ess(arviz.convert_to_dataset(pos_hmc)).x\n",
    "ess_pos_mala = arviz.ess(arviz.convert_to_dataset(pos_mala)).x"
   ]
  },
  {
   "cell_type": "code",
   "execution_count": 66,
   "metadata": {},
   "outputs": [
    {
     "data": {
      "image/png": "[encoded data removed]",
      "text/plain": [
       "<Figure size 1440x360 with 1 Axes>"
      ]
     },
     "metadata": {
      "needs_background": "light"
     },
     "output_type": "display_data"
    }
   ],
   "source": [
    "plt.figure(figsize=(20,5))\n",
    "plt.plot(ess_pos_nuts, 'r.', label='NUTS')\n",
    "plt.plot(ess_pos_hmc, 'g.', label='HMC') \n",
    "plt.plot(ess_pos_mala, 'b.', label='MALA')\n",
    "plt.plot(ess_pos_nuts/n_grad_calls_nuts, 'rx', label='NUTS (cost normalised)')\n",
    "plt.plot(ess_pos_hmc/n_grad_calls_hmc, 'gx',label='HMC (cost normalised)') \n",
    "plt.plot(ess_pos_mala/n_grad_calls_mala, 'bx',label='MALA (cost normalised)')\n",
    "plt.yscale('log')\n",
    "plt.xlabel('dimensions')\n",
    "plt.ylabel('ESS')\n",
    "plt.legend();"
   ]
  },
  {
   "cell_type": "markdown",
   "metadata": {},
   "source": [
    "## Compute ESS of squared position for each dimension"
   ]
  },
  {
   "cell_type": "code",
   "execution_count": 67,
   "metadata": {},
   "outputs": [],
   "source": [
    "ess_pos_sq_nuts = arviz.ess(arviz.convert_to_dataset(pos_nuts**2)).x\n",
    "ess_pos_sq_hmc = arviz.ess(arviz.convert_to_dataset(pos_hmc**2)).x\n",
    "ess_pos_sq_mala = arviz.ess(arviz.convert_to_dataset(pos_mala**2)).x"
   ]
  },
  {
   "cell_type": "code",
   "execution_count": 68,
   "metadata": {},
   "outputs": [
    {
     "data": {
      "image/png": "[encoded data removed]",
      "text/plain": [
       "<Figure size 1440x360 with 1 Axes>"
      ]
     },
     "metadata": {
      "needs_background": "light"
     },
     "output_type": "display_data"
    }
   ],
   "source": [
    "plt.figure(figsize=(20,5))\n",
    "plt.plot(ess_pos_sq_nuts, 'r.', label='NUTS')\n",
    "plt.plot(ess_pos_sq_hmc, 'g.', label='HMC') \n",
    "plt.plot(ess_pos_sq_mala, 'b.', label='MALA')\n",
    "plt.plot(ess_pos_sq_nuts/n_grad_calls_nuts, 'rx', label='NUTS (cost normalised)')\n",
    "plt.plot(ess_pos_sq_hmc/n_grad_calls_hmc, 'gx',label='HMC (cost normalised)') \n",
    "plt.plot(ess_pos_sq_mala/n_grad_calls_mala, 'bx',label='MALA (cost normalised)')\n",
    "plt.yscale('log')\n",
    "plt.xlabel('dimensions')\n",
    "plt.ylabel('ESS')\n",
    "plt.legend();"
   ]
  },
  {
   "cell_type": "markdown",
   "metadata": {},
   "source": [
    "## Compute ESS of negative log target"
   ]
  },
  {
   "cell_type": "code",
   "execution_count": 69,
   "metadata": {},
   "outputs": [],
   "source": [
    "ess_neg_log_target_nuts = arviz.ess(neg_log_target_nuts)\n",
    "ess_neg_log_target_hmc = arviz.ess(neg_log_target_hmc)\n",
    "ess_neg_log_target_mala = arviz.ess(neg_log_target_mala)"
   ]
  },
  {
   "cell_type": "code",
   "execution_count": 75,
   "metadata": {},
   "outputs": [
    {
     "name": "stdout",
     "output_type": "stream",
     "text": [
      "Neg log target ESS for NUTS = 33401.04 / HMC = 18843.86 / MALA: 11284.42\n"
     ]
    }
   ],
   "source": [
    "print(f'Neg log target ESS for NUTS = {ess_neg_log_target_nuts:.2f} \\\n",
    "/ HMC = {ess_neg_log_target_hmc:.2f} \\\n",
    "/ MALA: {ess_neg_log_target_mala:.2f}')"
   ]
  },
  {
   "cell_type": "code",
   "execution_count": 77,
   "metadata": {},
   "outputs": [
    {
     "name": "stdout",
     "output_type": "stream",
     "text": [
      "Normalized neg log target ESS for NUTS = 0.05 / HMC = 0.06 / MALA: 0.11\n"
     ]
    }
   ],
   "source": [
    "print(f'Normalized neg log target ESS for NUTS = {ess_neg_log_target_nuts/n_grad_calls_nuts:.2f} \\\n",
    "/ HMC = {ess_neg_log_target_hmc/n_grad_calls_hmc:.2f} \\\n",
    "/ MALA: {ess_neg_log_target_mala/n_grad_calls_mala:.2f}')"
   ]
  }
 ],
 "metadata": {
  "kernelspec": {
   "display_name": "Python 3",
   "language": "python",
   "name": "python3"
  },
  "language_info": {
   "codemirror_mode": {
    "name": "ipython",
    "version": 3
   },
   "file_extension": ".py",
   "mimetype": "text/x-python",
   "name": "python",
   "nbconvert_exporter": "python",
   "pygments_lexer": "ipython3",
   "version": "3.7.9"
  }
 },
 "nbformat": 4,
 "nbformat_minor": 4
}
